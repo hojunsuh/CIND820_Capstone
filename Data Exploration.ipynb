{
 "cells": [
  {
   "cell_type": "code",
   "execution_count": 1,
   "metadata": {},
   "outputs": [
    {
     "name": "stderr",
     "output_type": "stream",
     "text": [
      "[nltk_data] Downloading package vader_lexicon to\n",
      "[nltk_data]     C:\\Users\\HJ\\AppData\\Roaming\\nltk_data...\n",
      "[nltk_data]   Package vader_lexicon is already up-to-date!\n",
      "[nltk_data] Downloading package wordnet to\n",
      "[nltk_data]     C:\\Users\\HJ\\AppData\\Roaming\\nltk_data...\n",
      "[nltk_data]   Package wordnet is already up-to-date!\n"
     ]
    }
   ],
   "source": [
    "# Import required libraries\n",
    "import numpy as np\n",
    "import pandas as pd\n",
    "import re\n",
    "import seaborn as sns\n",
    "import matplotlib.pyplot as plt\n",
    "%matplotlib inline\n",
    "from nltk.sentiment.vader import SentimentIntensityAnalyzer\n",
    "import nltk\n",
    "nltk.download('vader_lexicon')\n",
    "nltk.download('wordnet')\n",
    "from textblob import TextBlob"
   ]
  },
  {
   "cell_type": "code",
   "execution_count": 2,
   "metadata": {},
   "outputs": [],
   "source": [
    "# Import article files. 143,000+ articles are separated by 3 csv files.\n",
    "pt1 = pd.read_csv('articles1.csv', index_col=0)\n",
    "pt2 = pd.read_csv('articles2.csv', index_col=0)\n",
    "pt3 = pd.read_csv('articles3.csv', index_col=0)\n",
    "df = pd.concat([pt1,pt2,pt3])"
   ]
  },
  {
   "cell_type": "code",
   "execution_count": null,
   "metadata": {},
   "outputs": [],
   "source": []
  },
  {
   "cell_type": "code",
   "execution_count": 3,
   "metadata": {},
   "outputs": [
    {
     "name": "stdout",
     "output_type": "stream",
     "text": [
      "The total number of rows in 1st csv file: 50000\n",
      "The total number of rows in 2nd csv file: 49999\n",
      "The total number of rows in 3rd csv file: 42571\n",
      "The total number of rows in dataset: 142570\n"
     ]
    }
   ],
   "source": [
    "print(f'The total number of rows in 1st csv file: {len(pt1)}')\n",
    "print(f'The total number of rows in 2nd csv file: {len(pt2)}')\n",
    "print(f'The total number of rows in 3rd csv file: {len(pt3)}')\n",
    "print(f'The total number of rows in dataset: {len(df)}')"
   ]
  },
  {
   "cell_type": "code",
   "execution_count": 4,
   "metadata": {},
   "outputs": [
    {
     "name": "stdout",
     "output_type": "stream",
     "text": [
      "<class 'pandas.core.frame.DataFrame'>\n",
      "Int64Index: 142570 entries, 0 to 146032\n",
      "Data columns (total 9 columns):\n",
      " #   Column       Non-Null Count   Dtype  \n",
      "---  ------       --------------   -----  \n",
      " 0   id           142570 non-null  int64  \n",
      " 1   title        142568 non-null  object \n",
      " 2   publication  142570 non-null  object \n",
      " 3   author       126694 non-null  object \n",
      " 4   date         139929 non-null  object \n",
      " 5   year         139929 non-null  float64\n",
      " 6   month        139929 non-null  float64\n",
      " 7   url          85559 non-null   object \n",
      " 8   content      142570 non-null  object \n",
      "dtypes: float64(2), int64(1), object(6)\n",
      "memory usage: 10.9+ MB\n"
     ]
    }
   ],
   "source": [
    "# Basic info about each column\n",
    "df.info()"
   ]
  },
  {
   "cell_type": "code",
   "execution_count": 5,
   "metadata": {},
   "outputs": [
    {
     "data": {
      "text/html": [
       "<div>\n",
       "<style scoped>\n",
       "    .dataframe tbody tr th:only-of-type {\n",
       "        vertical-align: middle;\n",
       "    }\n",
       "\n",
       "    .dataframe tbody tr th {\n",
       "        vertical-align: top;\n",
       "    }\n",
       "\n",
       "    .dataframe thead th {\n",
       "        text-align: right;\n",
       "    }\n",
       "</style>\n",
       "<table border=\"1\" class=\"dataframe\">\n",
       "  <thead>\n",
       "    <tr style=\"text-align: right;\">\n",
       "      <th></th>\n",
       "      <th>id</th>\n",
       "      <th>title</th>\n",
       "      <th>publication</th>\n",
       "      <th>author</th>\n",
       "      <th>date</th>\n",
       "      <th>year</th>\n",
       "      <th>month</th>\n",
       "      <th>url</th>\n",
       "      <th>content</th>\n",
       "    </tr>\n",
       "  </thead>\n",
       "  <tbody>\n",
       "    <tr>\n",
       "      <th>0</th>\n",
       "      <td>17283</td>\n",
       "      <td>House Republicans Fret About Winning Their Hea...</td>\n",
       "      <td>New York Times</td>\n",
       "      <td>Carl Hulse</td>\n",
       "      <td>2016-12-31</td>\n",
       "      <td>2016.0</td>\n",
       "      <td>12.0</td>\n",
       "      <td>NaN</td>\n",
       "      <td>WASHINGTON  —   Congressional Republicans have...</td>\n",
       "    </tr>\n",
       "    <tr>\n",
       "      <th>1</th>\n",
       "      <td>17284</td>\n",
       "      <td>Rift Between Officers and Residents as Killing...</td>\n",
       "      <td>New York Times</td>\n",
       "      <td>Benjamin Mueller and Al Baker</td>\n",
       "      <td>2017-06-19</td>\n",
       "      <td>2017.0</td>\n",
       "      <td>6.0</td>\n",
       "      <td>NaN</td>\n",
       "      <td>After the bullet shells get counted, the blood...</td>\n",
       "    </tr>\n",
       "    <tr>\n",
       "      <th>2</th>\n",
       "      <td>17285</td>\n",
       "      <td>Tyrus Wong, ‘Bambi’ Artist Thwarted by Racial ...</td>\n",
       "      <td>New York Times</td>\n",
       "      <td>Margalit Fox</td>\n",
       "      <td>2017-01-06</td>\n",
       "      <td>2017.0</td>\n",
       "      <td>1.0</td>\n",
       "      <td>NaN</td>\n",
       "      <td>When Walt Disney’s “Bambi” opened in 1942, cri...</td>\n",
       "    </tr>\n",
       "    <tr>\n",
       "      <th>3</th>\n",
       "      <td>17286</td>\n",
       "      <td>Among Deaths in 2016, a Heavy Toll in Pop Musi...</td>\n",
       "      <td>New York Times</td>\n",
       "      <td>William McDonald</td>\n",
       "      <td>2017-04-10</td>\n",
       "      <td>2017.0</td>\n",
       "      <td>4.0</td>\n",
       "      <td>NaN</td>\n",
       "      <td>Death may be the great equalizer, but it isn’t...</td>\n",
       "    </tr>\n",
       "    <tr>\n",
       "      <th>4</th>\n",
       "      <td>17287</td>\n",
       "      <td>Kim Jong-un Says North Korea Is Preparing to T...</td>\n",
       "      <td>New York Times</td>\n",
       "      <td>Choe Sang-Hun</td>\n",
       "      <td>2017-01-02</td>\n",
       "      <td>2017.0</td>\n",
       "      <td>1.0</td>\n",
       "      <td>NaN</td>\n",
       "      <td>SEOUL, South Korea  —   North Korea’s leader, ...</td>\n",
       "    </tr>\n",
       "  </tbody>\n",
       "</table>\n",
       "</div>"
      ],
      "text/plain": [
       "      id                                              title     publication  \\\n",
       "0  17283  House Republicans Fret About Winning Their Hea...  New York Times   \n",
       "1  17284  Rift Between Officers and Residents as Killing...  New York Times   \n",
       "2  17285  Tyrus Wong, ‘Bambi’ Artist Thwarted by Racial ...  New York Times   \n",
       "3  17286  Among Deaths in 2016, a Heavy Toll in Pop Musi...  New York Times   \n",
       "4  17287  Kim Jong-un Says North Korea Is Preparing to T...  New York Times   \n",
       "\n",
       "                          author        date    year  month  url  \\\n",
       "0                     Carl Hulse  2016-12-31  2016.0   12.0  NaN   \n",
       "1  Benjamin Mueller and Al Baker  2017-06-19  2017.0    6.0  NaN   \n",
       "2                   Margalit Fox  2017-01-06  2017.0    1.0  NaN   \n",
       "3               William McDonald  2017-04-10  2017.0    4.0  NaN   \n",
       "4                  Choe Sang-Hun  2017-01-02  2017.0    1.0  NaN   \n",
       "\n",
       "                                             content  \n",
       "0  WASHINGTON  —   Congressional Republicans have...  \n",
       "1  After the bullet shells get counted, the blood...  \n",
       "2  When Walt Disney’s “Bambi” opened in 1942, cri...  \n",
       "3  Death may be the great equalizer, but it isn’t...  \n",
       "4  SEOUL, South Korea  —   North Korea’s leader, ...  "
      ]
     },
     "execution_count": 5,
     "metadata": {},
     "output_type": "execute_result"
    }
   ],
   "source": [
    "# First 5 lines of dataset\n",
    "df.head()"
   ]
  },
  {
   "cell_type": "code",
   "execution_count": 6,
   "metadata": {},
   "outputs": [
    {
     "data": {
      "text/plain": [
       "array(['New York Times', 'Breitbart', 'CNN', 'Business Insider',\n",
       "       'Atlantic', 'Fox News', 'Talking Points Memo', 'Buzzfeed News',\n",
       "       'National Review', 'New York Post', 'Guardian', 'NPR', 'Reuters',\n",
       "       'Vox', 'Washington Post'], dtype=object)"
      ]
     },
     "execution_count": 6,
     "metadata": {},
     "output_type": "execute_result"
    }
   ],
   "source": [
    "# List of each pulisher in dataset\n",
    "df['publication'].unique()"
   ]
  },
  {
   "cell_type": "code",
   "execution_count": 29,
   "metadata": {},
   "outputs": [
    {
     "name": "stdout",
     "output_type": "stream",
     "text": [
      "Dataset contains articles from 2000 to 2017.\n"
     ]
    }
   ],
   "source": [
    "min = int(df['year'].min())\n",
    "max = int(df['year'].max())\n",
    "print(f'Dataset contains articles from {min} to {max}.')"
   ]
  },
  {
   "cell_type": "code",
   "execution_count": 35,
   "metadata": {},
   "outputs": [
    {
     "name": "stdout",
     "output_type": "stream",
     "text": [
      "There are 15647 of authors in dataset.\n"
     ]
    }
   ],
   "source": [
    "num_author = df['author'].nunique()\n",
    "print(f'There are {num_author} of authors in dataset.')"
   ]
  },
  {
   "cell_type": "code",
   "execution_count": 7,
   "metadata": {},
   "outputs": [],
   "source": [
    "# Remove unimportant attributes from the dataset to save memory and time\n",
    "drop_list = ['author', 'year', 'month', 'url']\n",
    "for col in drop_list:\n",
    "    df.drop(col, axis=1, inplace=True)"
   ]
  },
  {
   "cell_type": "code",
   "execution_count": 8,
   "metadata": {},
   "outputs": [
    {
     "data": {
      "text/html": [
       "<div>\n",
       "<style scoped>\n",
       "    .dataframe tbody tr th:only-of-type {\n",
       "        vertical-align: middle;\n",
       "    }\n",
       "\n",
       "    .dataframe tbody tr th {\n",
       "        vertical-align: top;\n",
       "    }\n",
       "\n",
       "    .dataframe thead th {\n",
       "        text-align: right;\n",
       "    }\n",
       "</style>\n",
       "<table border=\"1\" class=\"dataframe\">\n",
       "  <thead>\n",
       "    <tr style=\"text-align: right;\">\n",
       "      <th></th>\n",
       "      <th>id</th>\n",
       "      <th>title</th>\n",
       "      <th>publication</th>\n",
       "      <th>date</th>\n",
       "      <th>content</th>\n",
       "    </tr>\n",
       "  </thead>\n",
       "  <tbody>\n",
       "    <tr>\n",
       "      <th>0</th>\n",
       "      <td>17283</td>\n",
       "      <td>House Republicans Fret About Winning Their Hea...</td>\n",
       "      <td>New York Times</td>\n",
       "      <td>2016-12-31</td>\n",
       "      <td>WASHINGTON  —   Congressional Republicans have...</td>\n",
       "    </tr>\n",
       "    <tr>\n",
       "      <th>1</th>\n",
       "      <td>17284</td>\n",
       "      <td>Rift Between Officers and Residents as Killing...</td>\n",
       "      <td>New York Times</td>\n",
       "      <td>2017-06-19</td>\n",
       "      <td>After the bullet shells get counted, the blood...</td>\n",
       "    </tr>\n",
       "    <tr>\n",
       "      <th>2</th>\n",
       "      <td>17285</td>\n",
       "      <td>Tyrus Wong, ‘Bambi’ Artist Thwarted by Racial ...</td>\n",
       "      <td>New York Times</td>\n",
       "      <td>2017-01-06</td>\n",
       "      <td>When Walt Disney’s “Bambi” opened in 1942, cri...</td>\n",
       "    </tr>\n",
       "    <tr>\n",
       "      <th>3</th>\n",
       "      <td>17286</td>\n",
       "      <td>Among Deaths in 2016, a Heavy Toll in Pop Musi...</td>\n",
       "      <td>New York Times</td>\n",
       "      <td>2017-04-10</td>\n",
       "      <td>Death may be the great equalizer, but it isn’t...</td>\n",
       "    </tr>\n",
       "    <tr>\n",
       "      <th>4</th>\n",
       "      <td>17287</td>\n",
       "      <td>Kim Jong-un Says North Korea Is Preparing to T...</td>\n",
       "      <td>New York Times</td>\n",
       "      <td>2017-01-02</td>\n",
       "      <td>SEOUL, South Korea  —   North Korea’s leader, ...</td>\n",
       "    </tr>\n",
       "  </tbody>\n",
       "</table>\n",
       "</div>"
      ],
      "text/plain": [
       "      id                                              title     publication  \\\n",
       "0  17283  House Republicans Fret About Winning Their Hea...  New York Times   \n",
       "1  17284  Rift Between Officers and Residents as Killing...  New York Times   \n",
       "2  17285  Tyrus Wong, ‘Bambi’ Artist Thwarted by Racial ...  New York Times   \n",
       "3  17286  Among Deaths in 2016, a Heavy Toll in Pop Musi...  New York Times   \n",
       "4  17287  Kim Jong-un Says North Korea Is Preparing to T...  New York Times   \n",
       "\n",
       "         date                                            content  \n",
       "0  2016-12-31  WASHINGTON  —   Congressional Republicans have...  \n",
       "1  2017-06-19  After the bullet shells get counted, the blood...  \n",
       "2  2017-01-06  When Walt Disney’s “Bambi” opened in 1942, cri...  \n",
       "3  2017-04-10  Death may be the great equalizer, but it isn’t...  \n",
       "4  2017-01-02  SEOUL, South Korea  —   North Korea’s leader, ...  "
      ]
     },
     "execution_count": 8,
     "metadata": {},
     "output_type": "execute_result"
    }
   ],
   "source": [
    "df.head()"
   ]
  },
  {
   "cell_type": "code",
   "execution_count": 9,
   "metadata": {},
   "outputs": [
    {
     "data": {
      "text/plain": [
       "Text(0, 0.5, 'Count')"
      ]
     },
     "execution_count": 9,
     "metadata": {},
     "output_type": "execute_result"
    },
    {
     "data": {
      "image/png": "[encoded data removed]",
      "text/plain": [
       "<Figure size 864x576 with 1 Axes>"
      ]
     },
     "metadata": {
      "needs_background": "light"
     },
     "output_type": "display_data"
    }
   ],
   "source": [
    "ax = df['publication'].value_counts().plot(kind='bar', fontsize=14, figsize=(12,8))\n",
    "ax.set_title('# of articles by publisher')\n",
    "ax.set_xlabel('Pulisher')\n",
    "ax.set_ylabel('Count')"
   ]
  },
  {
   "cell_type": "code",
   "execution_count": 3,
   "metadata": {},
   "outputs": [],
   "source": [
    "# Extract every articles that contain either nasdaq|s&p 500|dow jone|tsx. Then change every word to lower case.\n",
    "df3 = df.astype(str).apply(lambda x: x.str.lower())\n",
    "df3 = df3[df3.apply(lambda row: row.astype(str).str.contains('nasdaq|s&p 500|dow jones|tsx').any(), axis=1)]\n",
    "df3.reset_index(inplace = True)"
   ]
  },
  {
   "cell_type": "code",
   "execution_count": 4,
   "metadata": {},
   "outputs": [
    {
     "name": "stdout",
     "output_type": "stream",
     "text": [
      "<class 'pandas.core.frame.DataFrame'>\n",
      "RangeIndex: 1312 entries, 0 to 1311\n",
      "Data columns (total 10 columns):\n",
      " #   Column       Non-Null Count  Dtype \n",
      "---  ------       --------------  ----- \n",
      " 0   index        1312 non-null   int64 \n",
      " 1   id           1312 non-null   object\n",
      " 2   title        1312 non-null   object\n",
      " 3   publication  1312 non-null   object\n",
      " 4   author       1312 non-null   object\n",
      " 5   date         1312 non-null   object\n",
      " 6   year         1312 non-null   object\n",
      " 7   month        1312 non-null   object\n",
      " 8   url          1312 non-null   object\n",
      " 9   content      1312 non-null   object\n",
      "dtypes: int64(1), object(9)\n",
      "memory usage: 102.6+ KB\n"
     ]
    }
   ],
   "source": [
    "df3.info()"
   ]
  },
  {
   "cell_type": "code",
   "execution_count": 32,
   "metadata": {},
   "outputs": [
    {
     "data": {
      "text/html": [
       "<div>\n",
       "<style scoped>\n",
       "    .dataframe tbody tr th:only-of-type {\n",
       "        vertical-align: middle;\n",
       "    }\n",
       "\n",
       "    .dataframe tbody tr th {\n",
       "        vertical-align: top;\n",
       "    }\n",
       "\n",
       "    .dataframe thead th {\n",
       "        text-align: right;\n",
       "    }\n",
       "</style>\n",
       "<table border=\"1\" class=\"dataframe\">\n",
       "  <thead>\n",
       "    <tr style=\"text-align: right;\">\n",
       "      <th></th>\n",
       "      <th>index</th>\n",
       "      <th>id</th>\n",
       "      <th>title</th>\n",
       "      <th>publication</th>\n",
       "      <th>date</th>\n",
       "      <th>content</th>\n",
       "    </tr>\n",
       "  </thead>\n",
       "  <tbody>\n",
       "    <tr>\n",
       "      <th>0</th>\n",
       "      <td>119</td>\n",
       "      <td>17420</td>\n",
       "      <td>recovery finally yields big gains for average ...</td>\n",
       "      <td>new york times</td>\n",
       "      <td>2017-01-07</td>\n",
       "      <td>it has been a long time coming  —   eight year...</td>\n",
       "    </tr>\n",
       "    <tr>\n",
       "      <th>1</th>\n",
       "      <td>398</td>\n",
       "      <td>17735</td>\n",
       "      <td>run-up since election slows as investors consi...</td>\n",
       "      <td>new york times</td>\n",
       "      <td>2017-01-18</td>\n",
       "      <td>with just days to go before the inauguration o...</td>\n",
       "    </tr>\n",
       "    <tr>\n",
       "      <th>2</th>\n",
       "      <td>1087</td>\n",
       "      <td>18515</td>\n",
       "      <td>top wall street journal editor defends trump c...</td>\n",
       "      <td>new york times</td>\n",
       "      <td>2017-02-14</td>\n",
       "      <td>gerard baker, the editor in chief of the wall ...</td>\n",
       "    </tr>\n",
       "    <tr>\n",
       "      <th>3</th>\n",
       "      <td>1548</td>\n",
       "      <td>19022</td>\n",
       "      <td>stocks are up 5 percent under trump. so how lo...</td>\n",
       "      <td>new york times</td>\n",
       "      <td>2017-03-06</td>\n",
       "      <td>stocks have marched higher and higher  —   up ...</td>\n",
       "    </tr>\n",
       "    <tr>\n",
       "      <th>4</th>\n",
       "      <td>1549</td>\n",
       "      <td>19023</td>\n",
       "      <td>donald trump, françois fillon, opel: your mond...</td>\n",
       "      <td>new york times</td>\n",
       "      <td>2017-03-06</td>\n",
       "      <td>good morning. here’s what you need to know: • ...</td>\n",
       "    </tr>\n",
       "  </tbody>\n",
       "</table>\n",
       "</div>"
      ],
      "text/plain": [
       "   index     id                                              title  \\\n",
       "0    119  17420  recovery finally yields big gains for average ...   \n",
       "1    398  17735  run-up since election slows as investors consi...   \n",
       "2   1087  18515  top wall street journal editor defends trump c...   \n",
       "3   1548  19022  stocks are up 5 percent under trump. so how lo...   \n",
       "4   1549  19023  donald trump, françois fillon, opel: your mond...   \n",
       "\n",
       "      publication        date  \\\n",
       "0  new york times  2017-01-07   \n",
       "1  new york times  2017-01-18   \n",
       "2  new york times  2017-02-14   \n",
       "3  new york times  2017-03-06   \n",
       "4  new york times  2017-03-06   \n",
       "\n",
       "                                             content  \n",
       "0  it has been a long time coming  —   eight year...  \n",
       "1  with just days to go before the inauguration o...  \n",
       "2  gerard baker, the editor in chief of the wall ...  \n",
       "3  stocks have marched higher and higher  —   up ...  \n",
       "4  good morning. here’s what you need to know: • ...  "
      ]
     },
     "execution_count": 32,
     "metadata": {},
     "output_type": "execute_result"
    }
   ],
   "source": [
    "df3.head()"
   ]
  },
  {
   "cell_type": "code",
   "execution_count": 5,
   "metadata": {},
   "outputs": [],
   "source": [
    "#Convert 'date' column to datetime datatype\n",
    "df3['date'] = pd.to_datetime(df3['date'])"
   ]
  },
  {
   "cell_type": "code",
   "execution_count": 7,
   "metadata": {},
   "outputs": [
    {
     "name": "stdout",
     "output_type": "stream",
     "text": [
      "2013-03-11 00:00:00\n",
      "2017-07-03 00:00:00\n"
     ]
    }
   ],
   "source": [
    "print(df3['date'].min())\n",
    "print(df3['date'].max())"
   ]
  },
  {
   "cell_type": "code",
   "execution_count": 33,
   "metadata": {},
   "outputs": [
    {
     "data": {
      "text/plain": [
       "Text(0, 0.5, 'Count')"
      ]
     },
     "execution_count": 33,
     "metadata": {},
     "output_type": "execute_result"
    },
    {
     "data": {
      "image/png": "[encoded data removed]",
      "text/plain": [
       "<Figure size 864x576 with 1 Axes>"
      ]
     },
     "metadata": {
      "needs_background": "light"
     },
     "output_type": "display_data"
    }
   ],
   "source": [
    "# Number of articles by publisher\n",
    "ax = df3['publication'].value_counts().plot(kind='bar', fontsize=14, figsize=(12,8))\n",
    "ax.set_title('# of articles by publisher')\n",
    "ax.set_xlabel('Pulisher')\n",
    "ax.set_ylabel('Count')"
   ]
  },
  {
   "cell_type": "code",
   "execution_count": 34,
   "metadata": {},
   "outputs": [
    {
     "data": {
      "text/plain": [
       "index           int64\n",
       "id             object\n",
       "title          object\n",
       "publication    object\n",
       "date           object\n",
       "content        object\n",
       "dtype: object"
      ]
     },
     "execution_count": 34,
     "metadata": {},
     "output_type": "execute_result"
    }
   ],
   "source": [
    "df3.dtypes"
   ]
  },
  {
   "cell_type": "code",
   "execution_count": 35,
   "metadata": {},
   "outputs": [
    {
     "name": "stdout",
     "output_type": "stream",
     "text": [
      "Number of articles that contains a word NASDAQ is 855\n",
      "Number of articles that contains a word S&P 500 is 943\n",
      "Number of articles that contains a word Dow Jone is 688\n",
      "Number of articles that contains a word TSX is 3\n"
     ]
    }
   ],
   "source": [
    "nasdaq = df3.apply(lambda row: row.astype(str).str.contains('nasdaq').any(), axis=1)\n",
    "print(f\"Number of articles that contains a word NASDAQ is {sum(nasdaq)}\")\n",
    "sp500 = df3.apply(lambda row: row.astype(str).str.contains('s&p 500').any(), axis=1)\n",
    "print(f\"Number of articles that contains a word S&P 500 is {sum(sp500)}\")\n",
    "dowjones = df3.apply(lambda row: row.astype(str).str.contains('dow jones').any(), axis=1)\n",
    "print(f\"Number of articles that contains a word Dow Jone is {sum(dowjone)}\")\n",
    "tsx = df3.apply(lambda row: row.astype(str).str.contains('tsx | toronto stock exchange').any(), axis=1)\n",
    "print(f\"Number of articles that contains a word TSX is {sum(tsx)}\")"
   ]
  },
  {
   "cell_type": "code",
   "execution_count": 36,
   "metadata": {},
   "outputs": [
    {
     "data": {
      "image/png": "[encoded data removed]",
      "text/plain": [
       "<Figure size 432x288 with 1 Axes>"
      ]
     },
     "metadata": {
      "needs_background": "light"
     },
     "output_type": "display_data"
    }
   ],
   "source": [
    "x_list = ['NASDAQ', 'S&P 500', 'DOW JONES', 'TSX']\n",
    "y_list = [sum(nasdaq), sum(sp500), sum(dowjone), sum(tsx)]\n",
    "plt.bar(x_list, y_list)\n",
    "plt.show()"
   ]
  },
  {
   "cell_type": "code",
   "execution_count": 37,
   "metadata": {},
   "outputs": [
    {
     "data": {
      "text/plain": [
       "Text(0, 0.5, 'Count')"
      ]
     },
     "execution_count": 37,
     "metadata": {},
     "output_type": "execute_result"
    },
    {
     "data": {
      "image/png": "[encoded data removed]",
      "text/plain": [
       "<Figure size 504x360 with 1 Axes>"
      ]
     },
     "metadata": {
      "needs_background": "light"
     },
     "output_type": "display_data"
    }
   ],
   "source": [
    "nasdaq_df = df3[df3.apply(lambda row: row.astype(str).str.contains('nasdaq').any(), axis=1)]\n",
    "ax_nasdaq = nasdaq_df['publication'].value_counts().plot(kind='bar', figsize=(7,5))\n",
    "ax_nasdaq.set_title('# of NASDAQ articles by publisher')\n",
    "ax_nasdaq.set_xlabel('Pulisher')\n",
    "ax_nasdaq.set_ylabel('Count')"
   ]
  },
  {
   "cell_type": "code",
   "execution_count": 38,
   "metadata": {},
   "outputs": [
    {
     "data": {
      "text/plain": [
       "Text(0, 0.5, 'Count')"
      ]
     },
     "execution_count": 38,
     "metadata": {},
     "output_type": "execute_result"
    },
    {
     "data": {
      "image/png": "[encoded data removed]",
      "text/plain": [
       "<Figure size 504x360 with 1 Axes>"
      ]
     },
     "metadata": {
      "needs_background": "light"
     },
     "output_type": "display_data"
    }
   ],
   "source": [
    "sp500_df = df3[df3.apply(lambda row: row.astype(str).str.contains('s&p 500').any(), axis=1)]\n",
    "ax_sp500 = sp500_df['publication'].value_counts().plot(kind='bar', figsize=(7,5))\n",
    "ax_sp500.set_title('# of S&P 500 articles by publisher')\n",
    "ax_sp500.set_xlabel('Pulisher')\n",
    "ax_sp500.set_ylabel('Count')"
   ]
  },
  {
   "cell_type": "code",
   "execution_count": 40,
   "metadata": {},
   "outputs": [
    {
     "data": {
      "text/plain": [
       "Text(0, 0.5, 'Count')"
      ]
     },
     "execution_count": 40,
     "metadata": {},
     "output_type": "execute_result"
    },
    {
     "data": {
      "image/png": "[encoded data removed]",
      "text/plain": [
       "<Figure size 504x360 with 1 Axes>"
      ]
     },
     "metadata": {
      "needs_background": "light"
     },
     "output_type": "display_data"
    }
   ],
   "source": [
    "dowjones_df = df3[df3.apply(lambda row: row.astype(str).str.contains('dow jones').any(), axis=1)]\n",
    "ax_dowjones = dowjone_df['publication'].value_counts().plot(kind='bar', figsize=(7,5))\n",
    "ax_dowjones.set_title('# of DOW JONES articles by publisher')\n",
    "ax_dowjones.set_xlabel('Pulisher')\n",
    "ax_dowjones.set_ylabel('Count')"
   ]
  },
  {
   "cell_type": "code",
   "execution_count": 41,
   "metadata": {},
   "outputs": [
    {
     "data": {
      "text/plain": [
       "Text(0, 0.5, 'Count')"
      ]
     },
     "execution_count": 41,
     "metadata": {},
     "output_type": "execute_result"
    },
    {
     "data": {
      "image/png": "[encoded data removed]",
      "text/plain": [
       "<Figure size 504x360 with 1 Axes>"
      ]
     },
     "metadata": {
      "needs_background": "light"
     },
     "output_type": "display_data"
    }
   ],
   "source": [
    "tsx_df = df3[df3.apply(lambda row: row.astype(str).str.contains('tsx | toronto stock exchange').any(), axis=1)]\n",
    "ax_tsx = tsx_df['publication'].value_counts().plot(kind='bar', figsize=(7,5))\n",
    "ax_tsx.set_title('# of TSX articles by publisher')\n",
    "ax_tsx.set_xlabel('Pulisher')\n",
    "ax_tsx.set_ylabel('Count')"
   ]
  },
  {
   "cell_type": "code",
   "execution_count": 42,
   "metadata": {},
   "outputs": [],
   "source": [
    "#Remove anything that is not a letter or space (note the ignoring of uppercase characters). Replace excessive spacing with a single one.\n",
    "def clean(text):\n",
    "    clean = re.sub(\"[^a-z\\s]+\", \" \", text, flags=re.IGNORECASE)\n",
    "    return re.sub(\"(\\s+)\", \" \", clean)"
   ]
  },
  {
   "cell_type": "code",
   "execution_count": 43,
   "metadata": {},
   "outputs": [],
   "source": [
    "df3['content'] = df3['content'].apply(lambda row: clean(row))"
   ]
  },
  {
   "cell_type": "code",
   "execution_count": 44,
   "metadata": {},
   "outputs": [],
   "source": [
    "#Tokennizing\n",
    "df3['tokenized'] = df3.apply(lambda row: nltk.word_tokenize(row['content']), axis=1)"
   ]
  },
  {
   "cell_type": "code",
   "execution_count": 45,
   "metadata": {},
   "outputs": [],
   "source": [
    "#Stemming\n",
    "#Nearly universally regarded as an improvement over porter, and for good reason. Porter himself in fact admits that it is better than his original algorithm. Slightly faster computation time than porter, with a fairly large community around it.\n",
    "from nltk.stem.snowball import SnowballStemmer\n",
    "stemmer = SnowballStemmer(\"english\")"
   ]
  },
  {
   "cell_type": "code",
   "execution_count": 46,
   "metadata": {},
   "outputs": [],
   "source": [
    "df3['stemmed'] = df3['tokenized'].apply(lambda row: [stemmer.stem(word) for word in row])"
   ]
  },
  {
   "cell_type": "code",
   "execution_count": 47,
   "metadata": {},
   "outputs": [],
   "source": [
    "# Lemmatization\n",
    "from nltk.stem import WordNetLemmatizer\n",
    "wnl = WordNetLemmatizer()\n",
    "lemmatizer = nltk.stem.WordNetLemmatizer()"
   ]
  },
  {
   "cell_type": "code",
   "execution_count": 48,
   "metadata": {},
   "outputs": [],
   "source": [
    "def lemmatize(col):\n",
    "    lemmatizer = WordNetLemmatizer()\n",
    "    return [lemmatizer.lemmatize(w) for w in col]"
   ]
  },
  {
   "cell_type": "code",
   "execution_count": 49,
   "metadata": {},
   "outputs": [],
   "source": [
    "df3['content_lemmatized'] = df3['tokenized'].apply(lemmatize)"
   ]
  },
  {
   "cell_type": "code",
   "execution_count": 50,
   "metadata": {},
   "outputs": [],
   "source": [
    "#Stop word removal\n",
    "from nltk.corpus import stopwords\n",
    "stop = stopwords.words('english')\n",
    "df3['stopwords'] = df3['stemmed'].apply(lambda row: [item for item in row if item not in stop])"
   ]
  },
  {
   "cell_type": "code",
   "execution_count": 51,
   "metadata": {},
   "outputs": [],
   "source": [
    "df3['stopwords_joined'] = df3['stopwords'].apply(lambda x: ' '.join(x))"
   ]
  },
  {
   "cell_type": "code",
   "execution_count": 52,
   "metadata": {},
   "outputs": [
    {
     "data": {
      "text/html": [
       "<div>\n",
       "<style scoped>\n",
       "    .dataframe tbody tr th:only-of-type {\n",
       "        vertical-align: middle;\n",
       "    }\n",
       "\n",
       "    .dataframe tbody tr th {\n",
       "        vertical-align: top;\n",
       "    }\n",
       "\n",
       "    .dataframe thead th {\n",
       "        text-align: right;\n",
       "    }\n",
       "</style>\n",
       "<table border=\"1\" class=\"dataframe\">\n",
       "  <thead>\n",
       "    <tr style=\"text-align: right;\">\n",
       "      <th></th>\n",
       "      <th>index</th>\n",
       "      <th>id</th>\n",
       "      <th>title</th>\n",
       "      <th>publication</th>\n",
       "      <th>date</th>\n",
       "      <th>content</th>\n",
       "      <th>tokenized</th>\n",
       "      <th>stemmed</th>\n",
       "      <th>content_lemmatized</th>\n",
       "      <th>stopwords</th>\n",
       "      <th>stopwords_joined</th>\n",
       "    </tr>\n",
       "  </thead>\n",
       "  <tbody>\n",
       "    <tr>\n",
       "      <th>0</th>\n",
       "      <td>119</td>\n",
       "      <td>17420</td>\n",
       "      <td>recovery finally yields big gains for average ...</td>\n",
       "      <td>new york times</td>\n",
       "      <td>2017-01-07</td>\n",
       "      <td>it has been a long time coming eight years in ...</td>\n",
       "      <td>[it, has, been, a, long, time, coming, eight, ...</td>\n",
       "      <td>[it, has, been, a, long, time, come, eight, ye...</td>\n",
       "      <td>[it, ha, been, a, long, time, coming, eight, y...</td>\n",
       "      <td>[long, time, come, eight, year, fact, econom, ...</td>\n",
       "      <td>long time come eight year fact econom recoveri...</td>\n",
       "    </tr>\n",
       "    <tr>\n",
       "      <th>1</th>\n",
       "      <td>398</td>\n",
       "      <td>17735</td>\n",
       "      <td>run-up since election slows as investors consi...</td>\n",
       "      <td>new york times</td>\n",
       "      <td>2017-01-18</td>\n",
       "      <td>with just days to go before the inauguration o...</td>\n",
       "      <td>[with, just, days, to, go, before, the, inaugu...</td>\n",
       "      <td>[with, just, day, to, go, befor, the, inaugur,...</td>\n",
       "      <td>[with, just, day, to, go, before, the, inaugur...</td>\n",
       "      <td>[day, go, befor, inaugur, donald, j, trump, pr...</td>\n",
       "      <td>day go befor inaugur donald j trump presid onc...</td>\n",
       "    </tr>\n",
       "    <tr>\n",
       "      <th>2</th>\n",
       "      <td>1087</td>\n",
       "      <td>18515</td>\n",
       "      <td>top wall street journal editor defends trump c...</td>\n",
       "      <td>new york times</td>\n",
       "      <td>2017-02-14</td>\n",
       "      <td>gerard baker the editor in chief of the wall s...</td>\n",
       "      <td>[gerard, baker, the, editor, in, chief, of, th...</td>\n",
       "      <td>[gerard, baker, the, editor, in, chief, of, th...</td>\n",
       "      <td>[gerard, baker, the, editor, in, chief, of, th...</td>\n",
       "      <td>[gerard, baker, editor, chief, wall, street, j...</td>\n",
       "      <td>gerard baker editor chief wall street journal ...</td>\n",
       "    </tr>\n",
       "    <tr>\n",
       "      <th>3</th>\n",
       "      <td>1548</td>\n",
       "      <td>19022</td>\n",
       "      <td>stocks are up 5 percent under trump. so how lo...</td>\n",
       "      <td>new york times</td>\n",
       "      <td>2017-03-06</td>\n",
       "      <td>stocks have marched higher and higher up perce...</td>\n",
       "      <td>[stocks, have, marched, higher, and, higher, u...</td>\n",
       "      <td>[stock, have, march, higher, and, higher, up, ...</td>\n",
       "      <td>[stock, have, marched, higher, and, higher, up...</td>\n",
       "      <td>[stock, march, higher, higher, percent, sinc, ...</td>\n",
       "      <td>stock march higher higher percent sinc presid ...</td>\n",
       "    </tr>\n",
       "    <tr>\n",
       "      <th>4</th>\n",
       "      <td>1549</td>\n",
       "      <td>19023</td>\n",
       "      <td>donald trump, françois fillon, opel: your mond...</td>\n",
       "      <td>new york times</td>\n",
       "      <td>2017-03-06</td>\n",
       "      <td>good morning here s what you need to know pres...</td>\n",
       "      <td>[good, morning, here, s, what, you, need, to, ...</td>\n",
       "      <td>[good, morn, here, s, what, you, need, to, kno...</td>\n",
       "      <td>[good, morning, here, s, what, you, need, to, ...</td>\n",
       "      <td>[good, morn, need, know, presid, trump, demand...</td>\n",
       "      <td>good morn need know presid trump demand congre...</td>\n",
       "    </tr>\n",
       "  </tbody>\n",
       "</table>\n",
       "</div>"
      ],
      "text/plain": [
       "   index     id                                              title  \\\n",
       "0    119  17420  recovery finally yields big gains for average ...   \n",
       "1    398  17735  run-up since election slows as investors consi...   \n",
       "2   1087  18515  top wall street journal editor defends trump c...   \n",
       "3   1548  19022  stocks are up 5 percent under trump. so how lo...   \n",
       "4   1549  19023  donald trump, françois fillon, opel: your mond...   \n",
       "\n",
       "      publication        date  \\\n",
       "0  new york times  2017-01-07   \n",
       "1  new york times  2017-01-18   \n",
       "2  new york times  2017-02-14   \n",
       "3  new york times  2017-03-06   \n",
       "4  new york times  2017-03-06   \n",
       "\n",
       "                                             content  \\\n",
       "0  it has been a long time coming eight years in ...   \n",
       "1  with just days to go before the inauguration o...   \n",
       "2  gerard baker the editor in chief of the wall s...   \n",
       "3  stocks have marched higher and higher up perce...   \n",
       "4  good morning here s what you need to know pres...   \n",
       "\n",
       "                                           tokenized  \\\n",
       "0  [it, has, been, a, long, time, coming, eight, ...   \n",
       "1  [with, just, days, to, go, before, the, inaugu...   \n",
       "2  [gerard, baker, the, editor, in, chief, of, th...   \n",
       "3  [stocks, have, marched, higher, and, higher, u...   \n",
       "4  [good, morning, here, s, what, you, need, to, ...   \n",
       "\n",
       "                                             stemmed  \\\n",
       "0  [it, has, been, a, long, time, come, eight, ye...   \n",
       "1  [with, just, day, to, go, befor, the, inaugur,...   \n",
       "2  [gerard, baker, the, editor, in, chief, of, th...   \n",
       "3  [stock, have, march, higher, and, higher, up, ...   \n",
       "4  [good, morn, here, s, what, you, need, to, kno...   \n",
       "\n",
       "                                  content_lemmatized  \\\n",
       "0  [it, ha, been, a, long, time, coming, eight, y...   \n",
       "1  [with, just, day, to, go, before, the, inaugur...   \n",
       "2  [gerard, baker, the, editor, in, chief, of, th...   \n",
       "3  [stock, have, marched, higher, and, higher, up...   \n",
       "4  [good, morning, here, s, what, you, need, to, ...   \n",
       "\n",
       "                                           stopwords  \\\n",
       "0  [long, time, come, eight, year, fact, econom, ...   \n",
       "1  [day, go, befor, inaugur, donald, j, trump, pr...   \n",
       "2  [gerard, baker, editor, chief, wall, street, j...   \n",
       "3  [stock, march, higher, higher, percent, sinc, ...   \n",
       "4  [good, morn, need, know, presid, trump, demand...   \n",
       "\n",
       "                                    stopwords_joined  \n",
       "0  long time come eight year fact econom recoveri...  \n",
       "1  day go befor inaugur donald j trump presid onc...  \n",
       "2  gerard baker editor chief wall street journal ...  \n",
       "3  stock march higher higher percent sinc presid ...  \n",
       "4  good morn need know presid trump demand congre...  "
      ]
     },
     "execution_count": 52,
     "metadata": {},
     "output_type": "execute_result"
    }
   ],
   "source": [
    "df3.head()"
   ]
  },
  {
   "cell_type": "code",
   "execution_count": null,
   "metadata": {},
   "outputs": [],
   "source": []
  }
 ],
 "metadata": {
  "kernelspec": {
   "display_name": "Python 3",
   "language": "python",
   "name": "python3"
  },
  "language_info": {
   "codemirror_mode": {
    "name": "ipython",
    "version": 3
   },
   "file_extension": ".py",
   "mimetype": "text/x-python",
   "name": "python",
   "nbconvert_exporter": "python",
   "pygments_lexer": "ipython3",
   "version": "3.8.3"
  }
 },
 "nbformat": 4,
 "nbformat_minor": 4
}
